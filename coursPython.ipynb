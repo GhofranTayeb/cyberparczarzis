{
  "nbformat": 4,
  "nbformat_minor": 0,
  "metadata": {
    "colab": {
      "provenance": [],
      "authorship_tag": "ABX9TyMA2+X8sDHP/Zj40BwCaXPQ",
      "include_colab_link": true
    },
    "kernelspec": {
      "name": "python3",
      "display_name": "Python 3"
    },
    "language_info": {
      "name": "python"
    }
  },
  "cells": [
    {
      "cell_type": "markdown",
      "metadata": {
        "id": "view-in-github",
        "colab_type": "text"
      },
      "source": [
        "<a href=\"https://colab.research.google.com/github/GhofranTayeb/cyberparczarzis/blob/master/coursPython.ipynb\" target=\"_parent\"><img src=\"https://colab.research.google.com/assets/colab-badge.svg\" alt=\"Open In Colab\"/></a>"
      ]
    },
    {
      "cell_type": "markdown",
      "source": [
        "# Les Listes"
      ],
      "metadata": {
        "id": "5B2pLvC65xxY"
      }
    },
    {
      "cell_type": "markdown",
      "source": [
        "Exercice 1"
      ],
      "metadata": {
        "id": "vEzUhSXM55eA"
      }
    },
    {
      "cell_type": "code",
      "source": [
        "from re import L\n",
        "l =[]\n",
        "for i in range(5):\n",
        "  l.append(input(\"donner un element dans la liste \"))\n",
        "print(l)"
      ],
      "metadata": {
        "id": "vQoVbkrbDvub"
      },
      "execution_count": null,
      "outputs": []
    },
    {
      "cell_type": "code",
      "source": [
        "l = []\n",
        "for i in range(5):\n",
        "    l.append(input(\"Donner un élément dans la liste : \"))\n",
        "\n",
        "print(\"Liste originale :\", l)\n",
        "x = l[::-1]\n",
        "\n",
        "print(\"Liste inversée :\", x)\n"
      ],
      "metadata": {
        "colab": {
          "base_uri": "https://localhost:8080/"
        },
        "id": "9Zv0bIUu7fT7",
        "outputId": "7e0e6138-2d54-4d69-ffd4-c172d991bb87"
      },
      "execution_count": null,
      "outputs": [
        {
          "output_type": "stream",
          "name": "stdout",
          "text": [
            "Donner un élément dans la liste : 7\n",
            "Donner un élément dans la liste : 6\n",
            "Donner un élément dans la liste : 9\n",
            "Donner un élément dans la liste : 7\n",
            "Donner un élément dans la liste : 3\n",
            "Liste originale : ['7', '6', '9', '7', '3']\n",
            "Liste inversée : ['3', '7', '9', '6', '7']\n"
          ]
        }
      ]
    },
    {
      "cell_type": "code",
      "source": [
        "x=[]\n",
        "for i in range(5):\n",
        "  x.append(input(\"donner un element dans la liste \"))\n",
        "print(x)\n",
        "r=len(x)\n",
        "print(\"le nombre d'element \" ,r)"
      ],
      "metadata": {
        "colab": {
          "base_uri": "https://localhost:8080/"
        },
        "id": "nYv8o6TQ-t5U",
        "outputId": "90e034dd-001e-482a-e666-6e44fb9fb27b"
      },
      "execution_count": null,
      "outputs": [
        {
          "output_type": "stream",
          "name": "stdout",
          "text": [
            "donner un element dans la liste 5\n",
            "donner un element dans la liste 9\n",
            "donner un element dans la liste 8\n",
            "donner un element dans la liste 8\n",
            "donner un element dans la liste 7\n",
            "['5', '9', '8', '8', '7']\n",
            "le nombre d'element  5\n"
          ]
        }
      ]
    },
    {
      "cell_type": "markdown",
      "source": [
        "Exercice 2"
      ],
      "metadata": {
        "id": "s8vv3nNM_cMK"
      }
    },
    {
      "cell_type": "code",
      "source": [
        "x=[1,5,8,7,6,8,10]\n",
        "index=int(input(\"donner l'index  \"))\n",
        "for i in range(len(x)):\n",
        "  if  0<=index<len(x):\n",
        "    x[index]=0\n",
        "\n",
        "  else :\n",
        "    print(\"l'index passe a la liste \")\n",
        "print(x)\n",
        "\n",
        "\n"
      ],
      "metadata": {
        "colab": {
          "base_uri": "https://localhost:8080/"
        },
        "id": "ntQWVopt_iov",
        "outputId": "6cd93eb0-b5e6-4a55-d2b2-8c3c364d3e78"
      },
      "execution_count": null,
      "outputs": [
        {
          "output_type": "stream",
          "name": "stdout",
          "text": [
            "donner l'index  2\n",
            "[1, 5, 0, 7, 6, 8, 10]\n"
          ]
        }
      ]
    },
    {
      "cell_type": "markdown",
      "source": [
        "Exercice 3\n"
      ],
      "metadata": {
        "id": "SWJ11rzmD5On"
      }
    },
    {
      "cell_type": "code",
      "source": [
        "x=int(input(\"donner la n element  \"))\n",
        "\n",
        "p=[]\n",
        "for i in range( 2, x):\n",
        "  premier =True\n",
        "  for j in range( 2,(i//2)+1):\n",
        "    if i%j==0:\n",
        "      premier=False\n",
        "      break\n",
        "  if  premier:\n",
        "    p.append(i)\n",
        "print(\" la liste \", p)\n",
        "\n",
        "\n",
        "\n"
      ],
      "metadata": {
        "colab": {
          "base_uri": "https://localhost:8080/"
        },
        "id": "Z9hLp4O9D8Ci",
        "outputId": "1a110175-19d1-4d42-9098-04801d911ede"
      },
      "execution_count": null,
      "outputs": [
        {
          "output_type": "stream",
          "name": "stdout",
          "text": [
            "donner la n element  20\n",
            " la liste  [2, 3, 5, 7, 11, 13, 17, 19]\n"
          ]
        }
      ]
    },
    {
      "cell_type": "code",
      "source": [
        "x = int(input(\"donner un nombre \"))\n"
      ],
      "metadata": {
        "id": "REURDznFTdpy"
      },
      "execution_count": null,
      "outputs": []
    },
    {
      "cell_type": "markdown",
      "source": [
        "## Les Fonctions"
      ],
      "metadata": {
        "id": "KZ5BijYRUxUb"
      }
    },
    {
      "cell_type": "markdown",
      "source": [
        "Exercice 1\n"
      ],
      "metadata": {
        "id": "TAbmoktYU5ze"
      }
    },
    {
      "cell_type": "code",
      "source": [
        "def helloWorld():\n",
        "  print(\"Hello, world!\")\n",
        "\n",
        "helloWorld()\n",
        "\n"
      ],
      "metadata": {
        "colab": {
          "base_uri": "https://localhost:8080/"
        },
        "id": "b07tW8jFU11r",
        "outputId": "3898b934-ed52-42bc-88c3-c262feffc476"
      },
      "execution_count": null,
      "outputs": [
        {
          "output_type": "stream",
          "name": "stdout",
          "text": [
            "Hello, world!\n"
          ]
        }
      ]
    },
    {
      "cell_type": "code",
      "source": [
        "def helloWorld(n):\n",
        "  print(n)\n",
        "\n",
        "x = str(input(\"donner un chaine  \"))\n",
        "helloWorld(x)"
      ],
      "metadata": {
        "colab": {
          "base_uri": "https://localhost:8080/"
        },
        "id": "GwtcL1nnWEvc",
        "outputId": "af663d88-6e25-4b16-f0f4-9e26969008b8"
      },
      "execution_count": null,
      "outputs": [
        {
          "output_type": "stream",
          "name": "stdout",
          "text": [
            "donner un chaineghofran\n",
            "ghofran\n"
          ]
        }
      ]
    },
    {
      "cell_type": "markdown",
      "source": [
        "Exercice 2"
      ],
      "metadata": {
        "id": "gdfH15Qml8CA"
      }
    },
    {
      "cell_type": "code",
      "source": [
        "def coefficient(x):\n",
        "  resultat = 3*(x**2) -x +2\n",
        "  return resultat\n",
        "\n",
        "x=int(input(\"donner un valeur \"))\n",
        "coefficient(x)\n"
      ],
      "metadata": {
        "colab": {
          "base_uri": "https://localhost:8080/"
        },
        "id": "rsjgeCHXl98W",
        "outputId": "7d614530-75ad-4f69-d9a3-4afd7ffdefce"
      },
      "execution_count": null,
      "outputs": [
        {
          "name": "stdout",
          "output_type": "stream",
          "text": [
            "donner un valeur 2\n"
          ]
        },
        {
          "output_type": "execute_result",
          "data": {
            "text/plain": [
              "12"
            ]
          },
          "metadata": {},
          "execution_count": 35
        }
      ]
    },
    {
      "cell_type": "markdown",
      "source": [
        "Exercice 3"
      ],
      "metadata": {
        "id": "gD-iV7mbnJCV"
      }
    },
    {
      "cell_type": "code",
      "source": [
        " # a)\n",
        "def MonMax(x,y):\n",
        "    if x>y:\n",
        "      return x\n",
        "    else:\n",
        "      return y\n",
        "x=int(input(\"donner un valeur de x  \"))\n",
        "y=int(input(\"donner un valeur de y  \"))\n",
        "MonMax(x,y)\n",
        "\n",
        "\n",
        "# b)\n",
        "\n"
      ],
      "metadata": {
        "colab": {
          "base_uri": "https://localhost:8080/"
        },
        "id": "-ka-IChOnKuH",
        "outputId": "eb03eb03-9a4e-4dab-cc67-19cbea7f4d1f"
      },
      "execution_count": null,
      "outputs": [
        {
          "name": "stdout",
          "output_type": "stream",
          "text": [
            "donner un valeur de x  5\n",
            "donner un valeur de y  7\n"
          ]
        },
        {
          "output_type": "execute_result",
          "data": {
            "text/plain": [
              "7"
            ]
          },
          "metadata": {},
          "execution_count": 37
        }
      ]
    },
    {
      "cell_type": "markdown",
      "source": [
        "Les Classe\n"
      ],
      "metadata": {
        "id": "ywuAyvH8cFbg"
      }
    },
    {
      "cell_type": "code",
      "source": [
        "class Robot:\n",
        "  def __init__(self, ab , ord , ori):\n",
        "    self.ab=ab\n",
        "    self.ord=ord\n",
        "    self.ori=ori\n",
        "\n",
        "  def avancer(self , n):\n",
        "    if self.ori=='N':\n",
        "      self.ord+=n\n",
        "    elif self.ori=='S':\n",
        "      self.ord-=n\n",
        "    elif self.ori=='E':\n",
        "      self.ab+=n\n",
        "    elif self.ori=='O':\n",
        "      self.ab-=n\n"
      ],
      "metadata": {
        "id": "RlIh5WalcH6k"
      },
      "execution_count": null,
      "outputs": []
    },
    {
      "cell_type": "code",
      "source": [
        "R=Robot(2,3,'N')\n",
        "R.avancer(5)\n",
        "print"
      ],
      "metadata": {
        "colab": {
          "base_uri": "https://localhost:8080/"
        },
        "id": "whmNcrRbe1No",
        "outputId": "60f1baee-fa70-4b07-8310-dd5f2df6de2b"
      },
      "execution_count": null,
      "outputs": [
        {
          "output_type": "stream",
          "name": "stdout",
          "text": [
            "None\n"
          ]
        }
      ]
    },
    {
      "cell_type": "markdown",
      "source": [
        "Les classes\n",
        ""
      ],
      "metadata": {
        "id": "IkaNPfcQUsdK"
      }
    },
    {
      "cell_type": "code",
      "source": [
        "from math import sqrt\n",
        "class Point :\n",
        "  def __init__(self , ab , ord ):\n",
        "    self.ab= ab\n",
        "    self.ord= ord\n",
        "  def get_ab(self):\n",
        "    return self.ab\n",
        "  def get_ord(self):\n",
        "    return self.ord\n",
        "  def set_ab(self, v):\n",
        "    self.ab=v\n",
        "  def set_ord(self , v):\n",
        "    self.ord=v\n",
        "  def distance_origine(self):\n",
        "    return sqrt(self.ab**2 + self.ord**2)\n",
        "  def plus_loin(self, p):\n",
        "        if self.distance_origine() > p.distance_origine():\n",
        "            return self\n",
        "        else:\n",
        "            return p"
      ],
      "metadata": {
        "id": "JNZJ3HwlUpHQ"
      },
      "execution_count": 14,
      "outputs": []
    },
    {
      "cell_type": "code",
      "source": [
        "p1 = Point(2, 3)\n",
        "p2 = Point(4, 5)\n",
        "p3 = Point(6, 7)\n",
        "\n",
        "print(p1.get_ab())\n",
        "print(p2.distance_origine())\n",
        "\n",
        "p4 = p1.plus_loin(p3)\n",
        "print(p4.get_ab(), p4.get_ord())\n",
        "\n"
      ],
      "metadata": {
        "colab": {
          "base_uri": "https://localhost:8080/"
        },
        "id": "G2nAWzh3YOMr",
        "outputId": "f13bc6f3-8f69-4afa-e3ae-e3090d213a46"
      },
      "execution_count": 15,
      "outputs": [
        {
          "output_type": "stream",
          "name": "stdout",
          "text": [
            "2\n",
            "6.4031242374328485\n",
            "6 7\n"
          ]
        }
      ]
    },
    {
      "cell_type": "code",
      "source": [
        "from math import pi , sqrt\n",
        "class Cercle :\n",
        "    def __init__(self , centre , rayon ):\n",
        "      self.centre= centre\n",
        "      self.rayon= rayon\n",
        "    def Perimetre(self):\n",
        "      return 2*pi*self.rayon\n",
        "    def surface( self):\n",
        "      return pi*self.rayon**2\n",
        "    def affiche_cercle(self):\n",
        "      print(f\"centre(({self.centre.get_ab}, {self.centre.get_ord}) , Rayon:{self.rayon})\")\n",
        ""
      ],
      "metadata": {
        "id": "9_FgX06Dbesr"
      },
      "execution_count": 18,
      "outputs": []
    },
    {
      "cell_type": "code",
      "source": [
        "a=Cercle(Point(1,2),2.5)\n"
      ],
      "metadata": {
        "id": "H1Hdz0YDe2iu"
      },
      "execution_count": 19,
      "outputs": []
    },
    {
      "cell_type": "markdown",
      "source": [
        "encapsilation\n"
      ],
      "metadata": {
        "id": "a8JT_tOJhE45"
      }
    },
    {
      "cell_type": "code",
      "source": [
        "class Cercle :\n",
        "    def __init__(self , x ):\n",
        "      self.__x=x\n",
        "    def set_x(self , x): # x est private\n",
        "      if x>0:\n",
        "        self.__x=x\n",
        "        else:\n",
        "          print(\"invalide\")\n",
        "    def get_x(self):\n",
        "      return self.__x\n",
        "\n",
        "\n"
      ],
      "metadata": {
        "id": "2obPfQSghIwI"
      },
      "execution_count": null,
      "outputs": []
    }
  ]
}